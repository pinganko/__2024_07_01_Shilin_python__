{
 "cells": [
  {
   "cell_type": "code",
   "execution_count": 9,
   "metadata": {},
   "outputs": [
    {
     "name": "stdout",
     "output_type": "stream",
     "text": [
      "有這個檔\n"
     ]
    }
   ],
   "source": [
    "import os\n",
    "\n",
    "file_path = os.path.abspath(__name__) #檔案的絕對位置\n",
    "current_dir_name = os.path.dirname(file_path) #取得目前的目錄\n",
    "filename = os.path.join(current_dir_name,'data','class.csv') #操作檔案的絕對位置\n",
    "if os.path.isfile(filename):\n",
    "    print(\"有這個檔\")\n",
    "else:\n",
    "    print(\"沒有這個檔\")"
   ]
  }
 ],
 "metadata": {
  "kernelspec": {
   "display_name": "Python 3",
   "language": "python",
   "name": "python3"
  },
  "language_info": {
   "codemirror_mode": {
    "name": "ipython",
    "version": 3
   },
   "file_extension": ".py",
   "mimetype": "text/x-python",
   "name": "python",
   "nbconvert_exporter": "python",
   "pygments_lexer": "ipython3",
   "version": "3.11.9"
  }
 },
 "nbformat": 4,
 "nbformat_minor": 2
}
