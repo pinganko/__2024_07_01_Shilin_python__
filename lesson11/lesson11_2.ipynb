{
 "cells": [
  {
   "cell_type": "code",
   "execution_count": 1,
   "metadata": {},
   "outputs": [
    {
     "data": {
      "text/plain": [
       "['崔孝憲',\n",
       " '郎慧萍',\n",
       " '林希啟',\n",
       " '李淑芳',\n",
       " '李雅怡',\n",
       " '林冠蕙',\n",
       " '高信宏',\n",
       " '陳建香',\n",
       " '林淑安',\n",
       " '王筱婷',\n",
       " '張雅芬',\n",
       " '林珈發',\n",
       " '龐皓芳',\n",
       " '黃淑芬',\n",
       " '鄧亭聿',\n",
       " '林群清',\n",
       " '陳志偉',\n",
       " '王雅琴',\n",
       " '周怡啟',\n",
       " '林志成',\n",
       " '陳冠竹',\n",
       " '方雅慧',\n",
       " '孫火清',\n",
       " '王柏聖',\n",
       " '詹忠光',\n",
       " '賴苑禾',\n",
       " '李湘婷',\n",
       " '林世城',\n",
       " '蔡士賢',\n",
       " '呂傑宣',\n",
       " '許淑婷',\n",
       " '張家秀',\n",
       " '王泓泰',\n",
       " '張慧君',\n",
       " '黃佩玲',\n",
       " '唐雪豪',\n",
       " '高俊男',\n",
       " '蘇凡菁',\n",
       " '黃靜怡',\n",
       " '葉軍仰',\n",
       " '葉軍仰',\n",
       " '李蓉瑞',\n",
       " '林思賢',\n",
       " '劉昀天',\n",
       " '張家秀',\n",
       " '洪奎夫',\n",
       " '郭坤花',\n",
       " '楊少亮',\n",
       " '詹忠光',\n",
       " '郭坤花']"
      ]
     },
     "execution_count": 1,
     "metadata": {},
     "output_type": "execute_result"
    }
   ],
   "source": [
    "import random\n",
    "with open('names.txt',encoding='utf-8') as file:\n",
    "    contents:str = file.read()\n",
    "    names:list[str] = contents.split(sep='\\n')\n",
    "    students_names = random.choices(names,k=50)\n",
    "students_names"
   ]
  }
 ],
 "metadata": {
  "kernelspec": {
   "display_name": "Python 3",
   "language": "python",
   "name": "python3"
  },
  "language_info": {
   "codemirror_mode": {
    "name": "ipython",
    "version": 3
   },
   "file_extension": ".py",
   "mimetype": "text/x-python",
   "name": "python",
   "nbconvert_exporter": "python",
   "pygments_lexer": "ipython3",
   "version": "3.11.9"
  }
 },
 "nbformat": 4,
 "nbformat_minor": 2
}
