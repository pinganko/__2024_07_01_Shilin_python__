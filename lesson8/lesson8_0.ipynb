{
 "cells": [
  {
   "cell_type": "code",
   "execution_count": 1,
   "metadata": {},
   "outputs": [
    {
     "name": "stdout",
     "output_type": "stream",
     "text": [
      "徐國堂你好\n",
      "    身高是：173公分\n",
      "    體重是：85公斤\n",
      "    BMI:28.4\n",
      "    輕度肥胖\n",
      "應用程式結束\n"
     ]
    }
   ],
   "source": [
    "while True:       \n",
    "    name = input(\"請輸入姓名：\")\n",
    "    while True:\n",
    "        try:\n",
    "            height = eval(input(\"請輸入身高(cm)：\"))\n",
    "            break\n",
    "        except Exception:\n",
    "            continue\n",
    "\n",
    "    while True:\n",
    "        try:\n",
    "            weight = eval(input(\"請輸入體重(kg)：\"))\n",
    "            break\n",
    "        except Exception:\n",
    "            continue\n",
    "\n",
    "    bmi = weight/(height/100) ** 2\n",
    "    if bmi >= 35:\n",
    "        status = '重度肥胖'\n",
    "    elif bmi >= 30:\n",
    "        status = '中度肥胖'\n",
    "    elif bmi >= 27:\n",
    "        status = '輕度肥胖'\n",
    "    elif bmi >= 24:\n",
    "        status = '體重過重'\n",
    "    elif bmi >= 18.5:\n",
    "        status = '體重正常'\n",
    "    else:\n",
    "        status = '體重過輕'\n",
    "    print(f\"\"\"{name}你好\n",
    "    身高是：{height}公分\n",
    "    體重是：{weight}公斤\n",
    "    BMI:{round(bmi,ndigits=2)}\n",
    "    {status}\"\"\")\n",
    "\n",
    "    \n",
    "    answer=input(\"離開(q)or繼續(c)\")\n",
    "    if answer==\"q\":\n",
    "        break\n",
    "    \n",
    "        \n",
    "print(\"應用程式結束\")"
   ]
  }
 ],
 "metadata": {
  "kernelspec": {
   "display_name": "Python 3",
   "language": "python",
   "name": "python3"
  },
  "language_info": {
   "codemirror_mode": {
    "name": "ipython",
    "version": 3
   },
   "file_extension": ".py",
   "mimetype": "text/x-python",
   "name": "python",
   "nbconvert_exporter": "python",
   "pygments_lexer": "ipython3",
   "version": "3.11.9"
  }
 },
 "nbformat": 4,
 "nbformat_minor": 2
}
