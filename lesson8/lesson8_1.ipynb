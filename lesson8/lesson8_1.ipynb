{
 "cells": [
  {
   "cell_type": "code",
   "execution_count": 4,
   "metadata": {},
   "outputs": [
    {
     "name": "stdout",
     "output_type": "stream",
     "text": [
      "40016.666666666664\n",
      "6.333333333333333\n",
      "40023.333333333336\n"
     ]
    }
   ],
   "source": [
    "#自訂funciton\n",
    "def myFunction(x, y):\n",
    "    return x ** 2 * y ** 2 + x / 3 + y\n",
    "\n",
    "\n",
    "#呼叫function\n",
    "print(myFunction(20, 10))\n",
    "print(myFunction(1, 2))\n",
    "print(myFunction(10, 20))"
   ]
  }
 ],
 "metadata": {
  "kernelspec": {
   "display_name": "Python 3",
   "language": "python",
   "name": "python3"
  },
  "language_info": {
   "codemirror_mode": {
    "name": "ipython",
    "version": 3
   },
   "file_extension": ".py",
   "mimetype": "text/x-python",
   "name": "python",
   "nbconvert_exporter": "python",
   "pygments_lexer": "ipython3",
   "version": "3.11.9"
  }
 },
 "nbformat": 4,
 "nbformat_minor": 2
}
