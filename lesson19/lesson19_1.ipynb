{
 "cells": [
  {
   "cell_type": "code",
   "execution_count": 1,
   "metadata": {},
   "outputs": [],
   "source": [
    "import os\n",
    "current_path = os.path.dirname(os.path.abspath(__name__))\n",
    "folder_path = os.path.join(current_path,'每日各站進出站人數')\n",
    "fileName_list = []\n",
    "for filename in os.listdir(folder_path):\n",
    "    if '每日各站進出站人數' in filename:\n",
    "        fileName_list.append(os.path.join(folder_path,filename))"
   ]
  },
  {
   "cell_type": "code",
   "execution_count": 2,
   "metadata": {},
   "outputs": [
    {
     "name": "stdout",
     "output_type": "stream",
     "text": [
      "['/workspaces/__2024_07_01_Shilin_python__/lesson19/每日各站進出站人數/每日各站進出站人數2020.csv', '/workspaces/__2024_07_01_Shilin_python__/lesson19/每日各站進出站人數/每日各站進出站人數2021.csv', '/workspaces/__2024_07_01_Shilin_python__/lesson19/每日各站進出站人數/每日各站進出站人數20190423-20191231.csv', '/workspaces/__2024_07_01_Shilin_python__/lesson19/每日各站進出站人數/每日各站進出站人數2023.csv', '/workspaces/__2024_07_01_Shilin_python__/lesson19/每日各站進出站人數/每日各站進出站人數2022.csv']\n"
     ]
    }
   ],
   "source": [
    "print(fileName_list)"
   ]
  }
 ],
 "metadata": {
  "kernelspec": {
   "display_name": "Python 3",
   "language": "python",
   "name": "python3"
  },
  "language_info": {
   "codemirror_mode": {
    "name": "ipython",
    "version": 3
   },
   "file_extension": ".py",
   "mimetype": "text/x-python",
   "name": "python",
   "nbconvert_exporter": "python",
   "pygments_lexer": "ipython3",
   "version": "3.11.9"
  }
 },
 "nbformat": 4,
 "nbformat_minor": 2
}
