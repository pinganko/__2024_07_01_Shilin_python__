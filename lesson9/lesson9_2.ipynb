{
 "cells": [
  {
   "cell_type": "code",
   "execution_count": 1,
   "metadata": {},
   "outputs": [
    {
     "name": "stdout",
     "output_type": "stream",
     "text": [
      "我是person的實體,我的名字是:Robert Hsu\n",
      "我是person的實體,我的名字是:徐國堂\n"
     ]
    }
   ],
   "source": [
    "#透過自定的__init__(self),建立自訂的初始化\n",
    "class Person():\n",
    "    def __init__(self,n:str):\n",
    "        self.name = n\n",
    "\n",
    "    def __repr__(self):\n",
    "        return f\"我是person的實體,我的名字是:{self.name}\"\n",
    "\n",
    "    \n",
    "\n",
    "p1 = Person(\"Robert Hsu\")\n",
    "print(p1)\n",
    "\n",
    "\n",
    "p2 = Person(n=\"徐國堂\")\n",
    "print(p2)\n"
   ]
  },
  {
   "cell_type": "code",
   "execution_count": 2,
   "metadata": {},
   "outputs": [
    {
     "name": "stdout",
     "output_type": "stream",
     "text": [
      "張同學\n",
      "王同學\n"
     ]
    }
   ],
   "source": [
    "class Student(Person):\n",
    "    pass\n",
    "\n",
    "s1 = Student(\"張同學\")\n",
    "print(s1.name)\n",
    "\n",
    "s2 = Student(\"王同學\")\n",
    "print(s2.name)"
   ]
  }
 ],
 "metadata": {
  "kernelspec": {
   "display_name": "Python 3",
   "language": "python",
   "name": "python3"
  },
  "language_info": {
   "codemirror_mode": {
    "name": "ipython",
    "version": 3
   },
   "file_extension": ".py",
   "mimetype": "text/x-python",
   "name": "python",
   "nbconvert_exporter": "python",
   "pygments_lexer": "ipython3",
   "version": "3.11.9"
  }
 },
 "nbformat": 4,
 "nbformat_minor": 2
}
